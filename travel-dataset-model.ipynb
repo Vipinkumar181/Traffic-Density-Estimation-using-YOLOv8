{
 "cells": [
  {
   "cell_type": "code",
   "execution_count": 1,
   "metadata": {
    "_cell_guid": "b1076dfc-b9ad-4769-8c92-a6c4dae69d19",
    "_uuid": "8f2839f25d086af736a60e9eeb907d3b93b6e0e5",
    "execution": {
     "iopub.execute_input": "2024-12-23T06:03:46.892564Z",
     "iopub.status.busy": "2024-12-23T06:03:46.892221Z",
     "iopub.status.idle": "2024-12-23T06:03:47.376660Z",
     "shell.execute_reply": "2024-12-23T06:03:47.375591Z",
     "shell.execute_reply.started": "2024-12-23T06:03:46.892533Z"
    },
    "trusted": true
   },
   "outputs": [],
   "source": [
    "import os\n",
    "for dirname, _, filenames in os.walk('/kaggle/input'):\n",
    "    for filename in filenames:\n",
    "        print(os.path.join(dirname, filename))"
   ]
  },
  {
   "cell_type": "markdown",
   "metadata": {
    "execution": {
     "iopub.execute_input": "2024-12-23T06:05:43.444084Z",
     "iopub.status.busy": "2024-12-23T06:05:43.443620Z",
     "iopub.status.idle": "2024-12-23T06:05:43.450432Z",
     "shell.execute_reply": "2024-12-23T06:05:43.448954Z",
     "shell.execute_reply.started": "2024-12-23T06:05:43.444050Z"
    }
   },
   "source": [
    "**IMPORT THE LIBARARIES**"
   ]
  },
  {
   "cell_type": "code",
   "execution_count": 2,
   "metadata": {
    "execution": {
     "iopub.execute_input": "2024-12-23T06:06:39.499068Z",
     "iopub.status.busy": "2024-12-23T06:06:39.498657Z",
     "iopub.status.idle": "2024-12-23T06:06:41.671116Z",
     "shell.execute_reply": "2024-12-23T06:06:41.670007Z",
     "shell.execute_reply.started": "2024-12-23T06:06:39.499036Z"
    },
    "trusted": true
   },
   "outputs": [],
   "source": [
    "import numpy as np\n",
    "import seaborn as sns\n",
    "import matplotlib.pyplot as plt\n",
    "import matplotlib.patches as mpatches\n",
    "from matplotlib.colors import ListedColormap\n",
    "import pandas as pd\n",
    "pd.set_option('display.max_columns',None)\n",
    "from mpl_toolkits.mplot3d import Axes3D\n",
    "\n",
    "from sklearn.preprocessing import LabelEncoder,StandardScaler,MinMaxScaler\n",
    "from sklearn import preprocessing,cluster\n",
    "from sklearn.decomposition import PCA\n",
    "from sklearn.cluster import KMeans,AgglomerativeClustering\n",
    "from sklearn.metrics import silhouette_samples,silhouette_score,davies_bouldin_score\n",
    "from sklearn.metrics import accuracy_score,precision_score,recall_score,f1_score\n",
    "from sklearn.metrics import confusion_matrix,roc_auc_score,roc_curve\n",
    "from sklearn.ensemble import RandomForestClassifier\n",
    "from sklearn.model_selection import train_test_split,cross_val_score,GridSearchCV\n",
    "from sklearn.feature_selection import SelectFromModel\n",
    "from sklearn.linear_model import Lasso,LogisticRegression\n",
    "from xgboost import XGBClassifier\n",
    "\n",
    "from yellowbrick.cluster import KElbowVisualizer\n",
    "from yellowbrick.cluster import SilhouetteVisualizer\n",
    "\n",
    "import statsmodels as sm\n",
    "from scipy import stats\n",
    "\n",
    "from time import time\n",
    "\n",
    "from imblearn.under_sampling import RandomUnderSampler\n",
    "\n",
    "from warnings import simplefilter\n",
    "simplefilter(\"ignore\")"
   ]
  },
  {
   "cell_type": "code",
   "execution_count": 3,
   "metadata": {},
   "outputs": [
    {
     "name": "stdout",
     "output_type": "stream",
     "text": [
      "Collecting yellowbrick\n",
      "  Downloading yellowbrick-1.5-py3-none-any.whl.metadata (7.7 kB)\n",
      "Requirement already satisfied: matplotlib!=3.0.0,>=2.0.2 in c:\\users\\g s\\appdata\\roaming\\python\\python311\\site-packages (from yellowbrick) (3.7.2)\n",
      "Requirement already satisfied: scipy>=1.0.0 in c:\\users\\g s\\appdata\\roaming\\python\\python311\\site-packages (from yellowbrick) (1.11.2)\n",
      "Requirement already satisfied: scikit-learn>=1.0.0 in c:\\users\\g s\\appdata\\roaming\\python\\python311\\site-packages (from yellowbrick) (1.3.0)\n",
      "Requirement already satisfied: numpy>=1.16.0 in c:\\users\\g s\\appdata\\roaming\\python\\python311\\site-packages (from yellowbrick) (1.25.2)\n",
      "Requirement already satisfied: cycler>=0.10.0 in c:\\users\\g s\\appdata\\roaming\\python\\python311\\site-packages (from yellowbrick) (0.11.0)\n",
      "Requirement already satisfied: contourpy>=1.0.1 in c:\\users\\g s\\appdata\\roaming\\python\\python311\\site-packages (from matplotlib!=3.0.0,>=2.0.2->yellowbrick) (1.1.0)\n",
      "Requirement already satisfied: fonttools>=4.22.0 in c:\\users\\g s\\appdata\\roaming\\python\\python311\\site-packages (from matplotlib!=3.0.0,>=2.0.2->yellowbrick) (4.42.1)\n",
      "Requirement already satisfied: kiwisolver>=1.0.1 in c:\\users\\g s\\appdata\\roaming\\python\\python311\\site-packages (from matplotlib!=3.0.0,>=2.0.2->yellowbrick) (1.4.5)\n",
      "Requirement already satisfied: packaging>=20.0 in c:\\users\\g s\\appdata\\roaming\\python\\python311\\site-packages (from matplotlib!=3.0.0,>=2.0.2->yellowbrick) (23.1)\n",
      "Requirement already satisfied: pillow>=6.2.0 in c:\\users\\g s\\appdata\\roaming\\python\\python311\\site-packages (from matplotlib!=3.0.0,>=2.0.2->yellowbrick) (10.0.0)\n",
      "Requirement already satisfied: pyparsing<3.1,>=2.3.1 in c:\\users\\g s\\appdata\\roaming\\python\\python311\\site-packages (from matplotlib!=3.0.0,>=2.0.2->yellowbrick) (3.0.9)\n",
      "Requirement already satisfied: python-dateutil>=2.7 in c:\\users\\g s\\appdata\\roaming\\python\\python311\\site-packages (from matplotlib!=3.0.0,>=2.0.2->yellowbrick) (2.8.2)\n",
      "Requirement already satisfied: joblib>=1.1.1 in c:\\users\\g s\\appdata\\roaming\\python\\python311\\site-packages (from scikit-learn>=1.0.0->yellowbrick) (1.3.2)\n",
      "Requirement already satisfied: threadpoolctl>=2.0.0 in c:\\users\\g s\\appdata\\roaming\\python\\python311\\site-packages (from scikit-learn>=1.0.0->yellowbrick) (3.2.0)\n",
      "Requirement already satisfied: six>=1.5 in c:\\users\\g s\\appdata\\roaming\\python\\python311\\site-packages (from python-dateutil>=2.7->matplotlib!=3.0.0,>=2.0.2->yellowbrick) (1.16.0)\n",
      "Downloading yellowbrick-1.5-py3-none-any.whl (282 kB)\n",
      "Installing collected packages: yellowbrick\n",
      "Successfully installed yellowbrick-1.5\n",
      "Note: you may need to restart the kernel to use updated packages.\n"
     ]
    }
   ],
   "source": [
    "pip install yellowbrick"
   ]
  },
  {
   "cell_type": "code",
   "execution_count": null,
   "metadata": {
    "collapsed": true,
    "execution": {
     "iopub.execute_input": "2024-12-23T06:04:07.508336Z",
     "iopub.status.busy": "2024-12-23T06:04:07.507957Z",
     "iopub.status.idle": "2024-12-23T06:04:07.832976Z",
     "shell.execute_reply": "2024-12-23T06:04:07.832017Z",
     "shell.execute_reply.started": "2024-12-23T06:04:07.508305Z"
    },
    "jupyter": {
     "outputs_hidden": true
    },
    "trusted": true
   },
   "outputs": [],
   "source": [
    "data = pd.read_csv('/kaggle/input/expedia-travel-dataset/travel.csv')\n",
    "data.head()"
   ]
  },
  {
   "cell_type": "code",
   "execution_count": 6,
   "metadata": {
    "execution": {
     "iopub.execute_input": "2024-12-23T06:08:40.541598Z",
     "iopub.status.busy": "2024-12-23T06:08:40.540838Z",
     "iopub.status.idle": "2024-12-23T06:08:40.584833Z",
     "shell.execute_reply": "2024-12-23T06:08:40.583845Z",
     "shell.execute_reply.started": "2024-12-23T06:08:40.541561Z"
    },
    "trusted": true
   },
   "outputs": [
    {
     "name": "stdout",
     "output_type": "stream",
     "text": [
      "<class 'pandas.core.frame.DataFrame'>\n",
      "RangeIndex: 100000 entries, 0 to 99999\n",
      "Data columns (total 25 columns):\n",
      " #   Column                     Non-Null Count   Dtype  \n",
      "---  ------                     --------------   -----  \n",
      " 0   Unnamed: 0                 100000 non-null  int64  \n",
      " 1   date_time                  100000 non-null  object \n",
      " 2   site_name                  100000 non-null  int64  \n",
      " 3   posa_continent             100000 non-null  int64  \n",
      " 4   user_location_country      100000 non-null  int64  \n",
      " 5   user_location_region       100000 non-null  int64  \n",
      " 6   user_location_city         100000 non-null  int64  \n",
      " 7   orig_destination_distance  63915 non-null   float64\n",
      " 8   user_id                    100000 non-null  int64  \n",
      " 9   is_mobile                  100000 non-null  int64  \n",
      " 10  is_package                 100000 non-null  int64  \n",
      " 11  channel                    100000 non-null  int64  \n",
      " 12  srch_ci                    99878 non-null   object \n",
      " 13  srch_co                    99878 non-null   object \n",
      " 14  srch_adults_cnt            100000 non-null  int64  \n",
      " 15  srch_children_cnt          100000 non-null  int64  \n",
      " 16  srch_rm_cnt                100000 non-null  int64  \n",
      " 17  srch_destination_id        100000 non-null  int64  \n",
      " 18  srch_destination_type_id   100000 non-null  int64  \n",
      " 19  is_booking                 100000 non-null  int64  \n",
      " 20  cnt                        100000 non-null  int64  \n",
      " 21  hotel_continent            100000 non-null  int64  \n",
      " 22  hotel_country              100000 non-null  int64  \n",
      " 23  hotel_market               100000 non-null  int64  \n",
      " 24  hotel_cluster              100000 non-null  int64  \n",
      "dtypes: float64(1), int64(21), object(3)\n",
      "memory usage: 19.1+ MB\n"
     ]
    }
   ],
   "source": [
    "data.info()"
   ]
  },
  {
   "cell_type": "code",
   "execution_count": 11,
   "metadata": {
    "execution": {
     "iopub.execute_input": "2024-12-23T06:09:23.575135Z",
     "iopub.status.busy": "2024-12-23T06:09:23.574684Z",
     "iopub.status.idle": "2024-12-23T06:09:23.701955Z",
     "shell.execute_reply": "2024-12-23T06:09:23.700885Z",
     "shell.execute_reply.started": "2024-12-23T06:09:23.575104Z"
    },
    "trusted": true
   },
   "outputs": [
    {
     "data": {
      "text/html": [
       "<div>\n",
       "<style scoped>\n",
       "    .dataframe tbody tr th:only-of-type {\n",
       "        vertical-align: middle;\n",
       "    }\n",
       "\n",
       "    .dataframe tbody tr th {\n",
       "        vertical-align: top;\n",
       "    }\n",
       "\n",
       "    .dataframe thead th {\n",
       "        text-align: right;\n",
       "    }\n",
       "</style>\n",
       "<table border=\"1\" class=\"dataframe\">\n",
       "  <thead>\n",
       "    <tr style=\"text-align: right;\">\n",
       "      <th></th>\n",
       "      <th>Unnamed: 0</th>\n",
       "      <th>site_name</th>\n",
       "      <th>posa_continent</th>\n",
       "      <th>user_location_country</th>\n",
       "      <th>user_location_region</th>\n",
       "      <th>user_location_city</th>\n",
       "      <th>orig_destination_distance</th>\n",
       "      <th>user_id</th>\n",
       "      <th>is_mobile</th>\n",
       "      <th>is_package</th>\n",
       "      <th>channel</th>\n",
       "      <th>srch_adults_cnt</th>\n",
       "      <th>srch_children_cnt</th>\n",
       "      <th>srch_rm_cnt</th>\n",
       "      <th>srch_destination_id</th>\n",
       "      <th>srch_destination_type_id</th>\n",
       "      <th>is_booking</th>\n",
       "      <th>cnt</th>\n",
       "      <th>hotel_continent</th>\n",
       "      <th>hotel_country</th>\n",
       "      <th>hotel_market</th>\n",
       "      <th>hotel_cluster</th>\n",
       "    </tr>\n",
       "  </thead>\n",
       "  <tbody>\n",
       "    <tr>\n",
       "      <th>count</th>\n",
       "      <td>1.000000e+05</td>\n",
       "      <td>100000.000000</td>\n",
       "      <td>100000.000000</td>\n",
       "      <td>100000.000000</td>\n",
       "      <td>100000.000000</td>\n",
       "      <td>100000.000000</td>\n",
       "      <td>63915.000000</td>\n",
       "      <td>1.000000e+05</td>\n",
       "      <td>100000.000000</td>\n",
       "      <td>100000.000000</td>\n",
       "      <td>100000.000000</td>\n",
       "      <td>100000.000000</td>\n",
       "      <td>100000.000000</td>\n",
       "      <td>100000.000000</td>\n",
       "      <td>100000.00000</td>\n",
       "      <td>100000.000000</td>\n",
       "      <td>100000.000000</td>\n",
       "      <td>100000.000000</td>\n",
       "      <td>100000.000000</td>\n",
       "      <td>100000.000000</td>\n",
       "      <td>100000.000000</td>\n",
       "      <td>100000.000000</td>\n",
       "    </tr>\n",
       "    <tr>\n",
       "      <th>mean</th>\n",
       "      <td>1.882530e+07</td>\n",
       "      <td>9.838570</td>\n",
       "      <td>2.678150</td>\n",
       "      <td>85.995070</td>\n",
       "      <td>308.636990</td>\n",
       "      <td>27676.391240</td>\n",
       "      <td>1960.661721</td>\n",
       "      <td>6.054383e+05</td>\n",
       "      <td>0.133770</td>\n",
       "      <td>0.248140</td>\n",
       "      <td>5.858590</td>\n",
       "      <td>2.020710</td>\n",
       "      <td>0.336750</td>\n",
       "      <td>1.111750</td>\n",
       "      <td>14426.32738</td>\n",
       "      <td>2.577290</td>\n",
       "      <td>0.079930</td>\n",
       "      <td>1.487980</td>\n",
       "      <td>3.150920</td>\n",
       "      <td>81.093290</td>\n",
       "      <td>598.848330</td>\n",
       "      <td>49.860370</td>\n",
       "    </tr>\n",
       "    <tr>\n",
       "      <th>std</th>\n",
       "      <td>1.086183e+07</td>\n",
       "      <td>11.996426</td>\n",
       "      <td>0.749018</td>\n",
       "      <td>59.292002</td>\n",
       "      <td>208.706581</td>\n",
       "      <td>16768.647409</td>\n",
       "      <td>2228.153377</td>\n",
       "      <td>3.516154e+05</td>\n",
       "      <td>0.340407</td>\n",
       "      <td>0.431936</td>\n",
       "      <td>3.722823</td>\n",
       "      <td>0.909774</td>\n",
       "      <td>0.734449</td>\n",
       "      <td>0.451602</td>\n",
       "      <td>11036.98122</td>\n",
       "      <td>2.149263</td>\n",
       "      <td>0.271186</td>\n",
       "      <td>1.280262</td>\n",
       "      <td>1.620534</td>\n",
       "      <td>56.111519</td>\n",
       "      <td>510.959297</td>\n",
       "      <td>28.885423</td>\n",
       "    </tr>\n",
       "    <tr>\n",
       "      <th>min</th>\n",
       "      <td>1.012000e+03</td>\n",
       "      <td>2.000000</td>\n",
       "      <td>0.000000</td>\n",
       "      <td>0.000000</td>\n",
       "      <td>0.000000</td>\n",
       "      <td>0.000000</td>\n",
       "      <td>0.005600</td>\n",
       "      <td>1.400000e+01</td>\n",
       "      <td>0.000000</td>\n",
       "      <td>0.000000</td>\n",
       "      <td>0.000000</td>\n",
       "      <td>0.000000</td>\n",
       "      <td>0.000000</td>\n",
       "      <td>0.000000</td>\n",
       "      <td>4.00000</td>\n",
       "      <td>1.000000</td>\n",
       "      <td>0.000000</td>\n",
       "      <td>1.000000</td>\n",
       "      <td>0.000000</td>\n",
       "      <td>0.000000</td>\n",
       "      <td>0.000000</td>\n",
       "      <td>0.000000</td>\n",
       "    </tr>\n",
       "    <tr>\n",
       "      <th>25%</th>\n",
       "      <td>9.448967e+06</td>\n",
       "      <td>2.000000</td>\n",
       "      <td>3.000000</td>\n",
       "      <td>66.000000</td>\n",
       "      <td>174.000000</td>\n",
       "      <td>12949.000000</td>\n",
       "      <td>312.792100</td>\n",
       "      <td>2.987962e+05</td>\n",
       "      <td>0.000000</td>\n",
       "      <td>0.000000</td>\n",
       "      <td>2.000000</td>\n",
       "      <td>2.000000</td>\n",
       "      <td>0.000000</td>\n",
       "      <td>1.000000</td>\n",
       "      <td>8267.00000</td>\n",
       "      <td>1.000000</td>\n",
       "      <td>0.000000</td>\n",
       "      <td>1.000000</td>\n",
       "      <td>2.000000</td>\n",
       "      <td>50.000000</td>\n",
       "      <td>158.000000</td>\n",
       "      <td>25.000000</td>\n",
       "    </tr>\n",
       "    <tr>\n",
       "      <th>50%</th>\n",
       "      <td>1.881212e+07</td>\n",
       "      <td>2.000000</td>\n",
       "      <td>3.000000</td>\n",
       "      <td>66.000000</td>\n",
       "      <td>314.000000</td>\n",
       "      <td>27655.000000</td>\n",
       "      <td>1131.835300</td>\n",
       "      <td>6.028825e+05</td>\n",
       "      <td>0.000000</td>\n",
       "      <td>0.000000</td>\n",
       "      <td>9.000000</td>\n",
       "      <td>2.000000</td>\n",
       "      <td>0.000000</td>\n",
       "      <td>1.000000</td>\n",
       "      <td>9145.00000</td>\n",
       "      <td>1.000000</td>\n",
       "      <td>0.000000</td>\n",
       "      <td>1.000000</td>\n",
       "      <td>2.000000</td>\n",
       "      <td>50.000000</td>\n",
       "      <td>591.000000</td>\n",
       "      <td>49.000000</td>\n",
       "    </tr>\n",
       "    <tr>\n",
       "      <th>75%</th>\n",
       "      <td>2.825307e+07</td>\n",
       "      <td>15.000000</td>\n",
       "      <td>3.000000</td>\n",
       "      <td>70.000000</td>\n",
       "      <td>385.000000</td>\n",
       "      <td>42328.000000</td>\n",
       "      <td>2542.359350</td>\n",
       "      <td>9.157222e+05</td>\n",
       "      <td>0.000000</td>\n",
       "      <td>0.000000</td>\n",
       "      <td>9.000000</td>\n",
       "      <td>2.000000</td>\n",
       "      <td>0.000000</td>\n",
       "      <td>1.000000</td>\n",
       "      <td>18784.00000</td>\n",
       "      <td>5.000000</td>\n",
       "      <td>0.000000</td>\n",
       "      <td>2.000000</td>\n",
       "      <td>4.000000</td>\n",
       "      <td>106.000000</td>\n",
       "      <td>701.000000</td>\n",
       "      <td>73.000000</td>\n",
       "    </tr>\n",
       "    <tr>\n",
       "      <th>max</th>\n",
       "      <td>3.767009e+07</td>\n",
       "      <td>53.000000</td>\n",
       "      <td>4.000000</td>\n",
       "      <td>239.000000</td>\n",
       "      <td>1025.000000</td>\n",
       "      <td>56507.000000</td>\n",
       "      <td>11965.376100</td>\n",
       "      <td>1.198783e+06</td>\n",
       "      <td>1.000000</td>\n",
       "      <td>1.000000</td>\n",
       "      <td>10.000000</td>\n",
       "      <td>9.000000</td>\n",
       "      <td>9.000000</td>\n",
       "      <td>8.000000</td>\n",
       "      <td>65035.00000</td>\n",
       "      <td>9.000000</td>\n",
       "      <td>1.000000</td>\n",
       "      <td>120.000000</td>\n",
       "      <td>6.000000</td>\n",
       "      <td>212.000000</td>\n",
       "      <td>2117.000000</td>\n",
       "      <td>99.000000</td>\n",
       "    </tr>\n",
       "  </tbody>\n",
       "</table>\n",
       "</div>"
      ],
      "text/plain": [
       "         Unnamed: 0      site_name  posa_continent  user_location_country  \\\n",
       "count  1.000000e+05  100000.000000   100000.000000          100000.000000   \n",
       "mean   1.882530e+07       9.838570        2.678150              85.995070   \n",
       "std    1.086183e+07      11.996426        0.749018              59.292002   \n",
       "min    1.012000e+03       2.000000        0.000000               0.000000   \n",
       "25%    9.448967e+06       2.000000        3.000000              66.000000   \n",
       "50%    1.881212e+07       2.000000        3.000000              66.000000   \n",
       "75%    2.825307e+07      15.000000        3.000000              70.000000   \n",
       "max    3.767009e+07      53.000000        4.000000             239.000000   \n",
       "\n",
       "       user_location_region  user_location_city  orig_destination_distance  \\\n",
       "count         100000.000000       100000.000000               63915.000000   \n",
       "mean             308.636990        27676.391240                1960.661721   \n",
       "std              208.706581        16768.647409                2228.153377   \n",
       "min                0.000000            0.000000                   0.005600   \n",
       "25%              174.000000        12949.000000                 312.792100   \n",
       "50%              314.000000        27655.000000                1131.835300   \n",
       "75%              385.000000        42328.000000                2542.359350   \n",
       "max             1025.000000        56507.000000               11965.376100   \n",
       "\n",
       "            user_id      is_mobile     is_package        channel  \\\n",
       "count  1.000000e+05  100000.000000  100000.000000  100000.000000   \n",
       "mean   6.054383e+05       0.133770       0.248140       5.858590   \n",
       "std    3.516154e+05       0.340407       0.431936       3.722823   \n",
       "min    1.400000e+01       0.000000       0.000000       0.000000   \n",
       "25%    2.987962e+05       0.000000       0.000000       2.000000   \n",
       "50%    6.028825e+05       0.000000       0.000000       9.000000   \n",
       "75%    9.157222e+05       0.000000       0.000000       9.000000   \n",
       "max    1.198783e+06       1.000000       1.000000      10.000000   \n",
       "\n",
       "       srch_adults_cnt  srch_children_cnt    srch_rm_cnt  srch_destination_id  \\\n",
       "count    100000.000000      100000.000000  100000.000000         100000.00000   \n",
       "mean          2.020710           0.336750       1.111750          14426.32738   \n",
       "std           0.909774           0.734449       0.451602          11036.98122   \n",
       "min           0.000000           0.000000       0.000000              4.00000   \n",
       "25%           2.000000           0.000000       1.000000           8267.00000   \n",
       "50%           2.000000           0.000000       1.000000           9145.00000   \n",
       "75%           2.000000           0.000000       1.000000          18784.00000   \n",
       "max           9.000000           9.000000       8.000000          65035.00000   \n",
       "\n",
       "       srch_destination_type_id     is_booking            cnt  \\\n",
       "count             100000.000000  100000.000000  100000.000000   \n",
       "mean                   2.577290       0.079930       1.487980   \n",
       "std                    2.149263       0.271186       1.280262   \n",
       "min                    1.000000       0.000000       1.000000   \n",
       "25%                    1.000000       0.000000       1.000000   \n",
       "50%                    1.000000       0.000000       1.000000   \n",
       "75%                    5.000000       0.000000       2.000000   \n",
       "max                    9.000000       1.000000     120.000000   \n",
       "\n",
       "       hotel_continent  hotel_country   hotel_market  hotel_cluster  \n",
       "count    100000.000000  100000.000000  100000.000000  100000.000000  \n",
       "mean          3.150920      81.093290     598.848330      49.860370  \n",
       "std           1.620534      56.111519     510.959297      28.885423  \n",
       "min           0.000000       0.000000       0.000000       0.000000  \n",
       "25%           2.000000      50.000000     158.000000      25.000000  \n",
       "50%           2.000000      50.000000     591.000000      49.000000  \n",
       "75%           4.000000     106.000000     701.000000      73.000000  \n",
       "max           6.000000     212.000000    2117.000000      99.000000  "
      ]
     },
     "execution_count": 11,
     "metadata": {},
     "output_type": "execute_result"
    }
   ],
   "source": [
    "data.describe()"
   ]
  },
  {
   "cell_type": "code",
   "execution_count": 22,
   "metadata": {
    "execution": {
     "iopub.execute_input": "2024-12-23T06:14:33.449296Z",
     "iopub.status.busy": "2024-12-23T06:14:33.448925Z",
     "iopub.status.idle": "2024-12-23T06:14:33.516985Z",
     "shell.execute_reply": "2024-12-23T06:14:33.515918Z",
     "shell.execute_reply.started": "2024-12-23T06:14:33.449260Z"
    },
    "trusted": true
   },
   "outputs": [
    {
     "name": "stdout",
     "output_type": "stream",
     "text": [
      "Unique value in the data:\n",
      "\n",
      " Unnamed: 0                   100000\n",
      "date_time                     99886\n",
      "site_name                        41\n",
      "posa_continent                    5\n",
      "user_location_country           201\n",
      "user_location_region            779\n",
      "user_location_city            10779\n",
      "orig_destination_distance     62206\n",
      "user_id                       88863\n",
      "is_mobile                         2\n",
      "is_package                        2\n",
      "channel                          11\n",
      "srch_ci                        1066\n",
      "srch_co                        1068\n",
      "srch_adults_cnt                  10\n",
      "srch_children_cnt                10\n",
      "srch_rm_cnt                       9\n",
      "srch_destination_id            8827\n",
      "srch_destination_type_id          8\n",
      "is_booking                        2\n",
      "cnt                              32\n",
      "hotel_continent                   7\n",
      "hotel_country                   178\n",
      "hotel_market                   1843\n",
      "hotel_cluster                   100\n",
      "dtype: int64\n"
     ]
    }
   ],
   "source": [
    "print(f\"Unique value in the data:\\n\\n {data.nunique()}\")"
   ]
  },
  {
   "cell_type": "code",
   "execution_count": 20,
   "metadata": {
    "execution": {
     "iopub.execute_input": "2024-12-23T06:13:44.646644Z",
     "iopub.status.busy": "2024-12-23T06:13:44.646207Z",
     "iopub.status.idle": "2024-12-23T06:13:44.730821Z",
     "shell.execute_reply": "2024-12-23T06:13:44.729672Z",
     "shell.execute_reply.started": "2024-12-23T06:13:44.646609Z"
    },
    "trusted": true
   },
   "outputs": [
    {
     "name": "stdout",
     "output_type": "stream",
     "text": [
      "Total duplicate values is 0 in the data\n"
     ]
    }
   ],
   "source": [
    "print(f\"Total duplicate values is {data.duplicated().sum()} in the data\")"
   ]
  },
  {
   "cell_type": "code",
   "execution_count": 17,
   "metadata": {
    "execution": {
     "iopub.execute_input": "2024-12-23T06:11:01.201458Z",
     "iopub.status.busy": "2024-12-23T06:11:01.201121Z",
     "iopub.status.idle": "2024-12-23T06:11:01.225916Z",
     "shell.execute_reply": "2024-12-23T06:11:01.224809Z",
     "shell.execute_reply.started": "2024-12-23T06:11:01.201432Z"
    },
    "trusted": true
   },
   "outputs": [
    {
     "data": {
      "text/plain": [
       "Unnamed: 0                       0\n",
       "date_time                        0\n",
       "site_name                        0\n",
       "posa_continent                   0\n",
       "user_location_country            0\n",
       "user_location_region             0\n",
       "user_location_city               0\n",
       "orig_destination_distance    36085\n",
       "user_id                          0\n",
       "is_mobile                        0\n",
       "is_package                       0\n",
       "channel                          0\n",
       "srch_ci                        122\n",
       "srch_co                        122\n",
       "srch_adults_cnt                  0\n",
       "srch_children_cnt                0\n",
       "srch_rm_cnt                      0\n",
       "srch_destination_id              0\n",
       "srch_destination_type_id         0\n",
       "is_booking                       0\n",
       "cnt                              0\n",
       "hotel_continent                  0\n",
       "hotel_country                    0\n",
       "hotel_market                     0\n",
       "hotel_cluster                    0\n",
       "dtype: int64"
      ]
     },
     "execution_count": 17,
     "metadata": {},
     "output_type": "execute_result"
    }
   ],
   "source": [
    "print(f\"Missing values is {data.isnull().sum()} in the data\")"
   ]
  },
  {
   "cell_type": "code",
   "execution_count": 19,
   "metadata": {
    "execution": {
     "iopub.execute_input": "2024-12-23T06:12:25.540268Z",
     "iopub.status.busy": "2024-12-23T06:12:25.539927Z",
     "iopub.status.idle": "2024-12-23T06:12:25.565378Z",
     "shell.execute_reply": "2024-12-23T06:12:25.564181Z",
     "shell.execute_reply.started": "2024-12-23T06:12:25.540242Z"
    },
    "trusted": true
   },
   "outputs": [
    {
     "name": "stdout",
     "output_type": "stream",
     "text": [
      "Total missing values is 36329 in the data\n"
     ]
    }
   ],
   "source": [
    "print(f\"Total missing values is {data.isnull().sum().sum()} in the data\")"
   ]
  },
  {
   "cell_type": "code",
   "execution_count": 24,
   "metadata": {
    "execution": {
     "iopub.execute_input": "2024-12-23T06:24:29.668580Z",
     "iopub.status.busy": "2024-12-23T06:24:29.668120Z",
     "iopub.status.idle": "2024-12-23T06:24:30.342904Z",
     "shell.execute_reply": "2024-12-23T06:24:30.341538Z",
     "shell.execute_reply.started": "2024-12-23T06:24:29.668532Z"
    },
    "trusted": true
   },
   "outputs": [
    {
     "data": {
      "image/png": "[encoded data removed]",
      "text/plain": [
       "<Figure size 1500x600 with 1 Axes>"
      ]
     },
     "metadata": {},
     "output_type": "display_data"
    }
   ],
   "source": [
    "def null_values(data,title,x_label,y_label):\n",
    "    null_data=(data.apply(lambda x : x.isnull().value_counts()).T[True]/len(data)*100).reset_index(name=\"count\")\n",
    "    plt.figure(figsize=(15,6))\n",
    "    sns.barplot(null_data[null_data['count']>0],x='index',y='count')\n",
    "    plt.yscale('log')\n",
    "    plt.title(title,fontsize=20)\n",
    "    plt.xlabel(x_label,fontsize=10)\n",
    "    plt.ylabel(y_label,fontsize=10)\n",
    "    plt.tight_layout()\n",
    "    plt.show()\n",
    "\n",
    "null_values(data,\"Null Values In Data\",\"Feature\",\"% of Missing Values In Data(Log Scale)\")"
   ]
  },
  {
   "cell_type": "markdown",
   "metadata": {},
   "source": [
    "**CORRELATION MATRIX**"
   ]
  },
  {
   "cell_type": "code",
   "execution_count": 27,
   "metadata": {
    "execution": {
     "iopub.execute_input": "2024-12-23T06:30:08.414392Z",
     "iopub.status.busy": "2024-12-23T06:30:08.414021Z",
     "iopub.status.idle": "2024-12-23T06:30:08.423399Z",
     "shell.execute_reply": "2024-12-23T06:30:08.422243Z",
     "shell.execute_reply.started": "2024-12-23T06:30:08.414363Z"
    },
    "trusted": true
   },
   "outputs": [],
   "source": [
    "corr_mat=data.drop(['Unnamed: 0','date_time','srch_ci','srch_co'],axis=1)\n",
    "plt.figure(figsize=(15,15))\n",
    "plt.corr\n",
    "plt.title(\"Correlation Matrix\")\n",
    "plt.show()"
   ]
  },
  {
   "cell_type": "code",
   "execution_count": null,
   "metadata": {
    "trusted": true
   },
   "outputs": [],
   "source": []
  }
 ],
 "metadata": {
  "kaggle": {
   "accelerator": "none",
   "dataSources": [
    {
     "datasetId": 6165451,
     "sourceId": 10014277,
     "sourceType": "datasetVersion"
    }
   ],
   "isGpuEnabled": false,
   "isInternetEnabled": false,
   "language": "python",
   "sourceType": "notebook"
  },
  "kernelspec": {
   "display_name": "Python 3",
   "language": "python",
   "name": "python3"
  },
  "language_info": {
   "codemirror_mode": {
    "name": "ipython",
    "version": 3
   },
   "file_extension": ".py",
   "mimetype": "text/x-python",
   "name": "python",
   "nbconvert_exporter": "python",
   "pygments_lexer": "ipython3",
   "version": "3.11.5"
  }
 },
 "nbformat": 4,
 "nbformat_minor": 4
}
